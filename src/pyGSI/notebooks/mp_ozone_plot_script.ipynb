{
 "cells": [
  {
   "cell_type": "code",
   "execution_count": 30,
   "metadata": {},
   "outputs": [],
   "source": [
    "import argparse\n",
    "import numpy as np\n",
    "import yaml\n",
    "from multiprocessing import Pool\n",
    "import sys\n",
    "from pyGSI.diags import Ozone\n",
    "from pyGSI.plot_diags import plot_map, plot_histogram\n",
    "from datetime import datetime\n",
    "\n",
    "start_time = datetime.now()\n",
    "\n",
    "\n",
    "def plotting(ozone_config):\n",
    "\n",
    "    diagfile = ozone_config['ozone input']['path'][0]\n",
    "    diag_type = ozone_config['ozone input']['data type'][0].lower()\n",
    "    analysis_use = ozone_config['ozone input']['analysis use'][0]\n",
    "    layer = ozone_config['ozone input']['layer'][0]\n",
    "    plot_type = ozone_config['ozone input']['plot type']\n",
    "    outdir = ozone_config['outdir']\n",
    "\n",
    "    diag = Ozone(diagfile)\n",
    "\n",
    "    df = diag.get_data(analysis_use=analysis_use)\n",
    "    metadata = diag.metadata\n",
    "    metadata['Diag Type'] = diag_type\n",
    "    \n",
    "    column = f'{diag_type}' if diag_type in ['observation'] \\\n",
    "        else f'{diag_type}_adjusted'\n",
    "\n",
    "    if layer == 0:\n",
    "        dict_key = 'column total'\n",
    "    else:\n",
    "        dict_key = list(df)[layer]\n",
    "    metadata['Layer'] = dict_key\n",
    "    \n",
    "    if analysis_use:\n",
    "        lats = {\n",
    "            'assimilated': df[dict_key]['assimilated']['latitude'].to_numpy(),\n",
    "            'monitored': df[dict_key]['monitored']['latitude'].to_numpy()\n",
    "        }\n",
    "        lons = {\n",
    "            'assimilated': df[dict_key]['assimilated']['longitude'].to_numpy(),\n",
    "            'monitored': df[dict_key]['monitored']['longitude'].to_numpy()\n",
    "        }\n",
    "        \n",
    "        data = {\n",
    "            'assimilated': df[dict_key]['assimilated'][column].to_numpy(),\n",
    "            'monitored': df[dict_key]['monitored'][column].to_numpy()\n",
    "        }\n",
    "        \n",
    "    else:\n",
    "        lats = df[dict_key]['latitude'].to_numpy()\n",
    "        lons = df[dict_key]['longitude'].to_numpy()\n",
    "    \n",
    "        data = df[dict_key][column].to_numpy()\n",
    "\n",
    "    if np.isin('histogram', plot_type):\n",
    "        plot_histogram(data, metadata, outdir)\n",
    "    if np.isin('spatial', plot_type):\n",
    "        plot_map(lats, lons, data, metadata, outdir)"
   ]
  },
  {
   "cell_type": "code",
   "execution_count": 31,
   "metadata": {},
   "outputs": [
    {
     "name": "stderr",
     "output_type": "stream",
     "text": [
      "/scratch1/NCEPDEV/da/Kevin.Dougherty/anaconda3/envs/UFO/lib/python3.7/site-packages/shapefile.py:385: UserWarning: Shapefile shape has invalid polygon: no exterior rings found (must have clockwise orientation); interpreting holes as exteriors.\n",
      "  warnings.warn('Shapefile shape has invalid polygon: no exterior rings found (must have clockwise orientation); interpreting holes as exteriors.')\n"
     ]
    }
   ],
   "source": [
    "config = {\n",
    "    'ozone input': {\n",
    "        'analysis use': [True],\n",
    "        'data type': ['omf'],\n",
    "        'layer': [0],\n",
    "        'qc flag': None,\n",
    "        'path': ['/scratch2/NCEPDEV/stmp1/Kevin.Dougherty/ncDiags/gdas.20200922/00/atmos/diag_omi_aura_ges.2020100200.nc4'],\n",
    "        'plot type': ['histogram', 'spatial']\n",
    "    },\n",
    "    'outdir': './'\n",
    "}\n",
    "\n",
    "plotting(config)"
   ]
  },
  {
   "cell_type": "code",
   "execution_count": null,
   "metadata": {},
   "outputs": [],
   "source": []
  }
 ],
 "metadata": {
  "kernelspec": {
   "display_name": "Python 3",
   "language": "python",
   "name": "python3"
  },
  "language_info": {
   "codemirror_mode": {
    "name": "ipython",
    "version": 3
   },
   "file_extension": ".py",
   "mimetype": "text/x-python",
   "name": "python",
   "nbconvert_exporter": "python",
   "pygments_lexer": "ipython3",
   "version": "3.7.9"
  }
 },
 "nbformat": 4,
 "nbformat_minor": 4
}
